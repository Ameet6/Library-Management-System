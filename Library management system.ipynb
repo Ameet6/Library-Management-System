{
 "cells": [
  {
   "cell_type": "markdown",
   "id": "d6135914-f3ec-42a6-be67-b6d9d37ce78a",
   "metadata": {},
   "source": [
    "## Library Management System"
   ]
  },
  {
   "cell_type": "code",
   "execution_count": 1,
   "id": "c98f648b-d9d4-4aad-9001-d9e00f56024c",
   "metadata": {},
   "outputs": [],
   "source": [
    "class library:\n",
    "    def __init__(self,list,name):\n",
    "        self.booklist = list\n",
    "        self.name = name\n",
    "        self.lenDict = {}\n",
    "    def displaybooks(self):\n",
    "        print(f\"{self.name}\\nWe have following books in our library.\")\n",
    "        Serial = 1\n",
    "        for book in self.booklist:\n",
    "            print(f\"{Serial} {book}\")\n",
    "            Serial += 1\n",
    "    def lendbooks(self,book,name):\n",
    "        if book in self.booklist:\n",
    "            if book not in self.lenDict:\n",
    "                self.lenDict.update({book: name})\n",
    "                print(f\"Lender Book database has been update. You can take the book now.\")\n",
    "            else:\n",
    "                 print(f\"Book is being already used by {self.lenDict[book]}\")\n",
    "        else:\n",
    "            (\"This book is not related to our library\")\n",
    "            \n",
    "    def addbooks(self,book):\n",
    "        self.booklist.append(book)\n",
    "        print(\"Book has been added to the book list\")\n",
    "\n",
    "    def returnbooks(self,book):\n",
    "        if book in self.booklist:\n",
    "            if book in self.lenDict.keys():\n",
    "                self.lenDict.pop(book)\n",
    "                print(\"Thank You, Book is recived.\")\n",
    "            else:\n",
    "                print(f\"This book {book} is not in use\")\n",
    "    \n",
    "    \n",
    "        "
   ]
  },
  {
   "cell_type": "code",
   "execution_count": 2,
   "id": "273be519-defa-423d-968b-88e1312f953e",
   "metadata": {},
   "outputs": [],
   "source": [
    "BH_Library = library(['Data Science','Machine Learning','Artificial Intelligence','Deep Learning','Data Analytics','Bussiness Intelligence'],'BHARUMAL AMRANI LIBRARY')"
   ]
  },
  {
   "cell_type": "code",
   "execution_count": 3,
   "id": "33f28346-bc6e-4209-aeba-25148265575c",
   "metadata": {},
   "outputs": [
    {
     "data": {
      "text/plain": [
       "{'booklist': ['Data Science',\n",
       "  'Machine Learning',\n",
       "  'Artificial Intelligence',\n",
       "  'Deep Learning',\n",
       "  'Data Analytics',\n",
       "  'Bussiness Intelligence'],\n",
       " 'name': 'BHARUMAL AMRANI LIBRARY',\n",
       " 'lenDict': {}}"
      ]
     },
     "execution_count": 3,
     "metadata": {},
     "output_type": "execute_result"
    }
   ],
   "source": [
    "BH_Library.__dict__"
   ]
  },
  {
   "cell_type": "code",
   "execution_count": 4,
   "id": "12d2af6b-305c-4341-b304-4365c73d2cac",
   "metadata": {},
   "outputs": [
    {
     "name": "stdout",
     "output_type": "stream",
     "text": [
      "BHARUMAL AMRANI LIBRARY\n",
      "We have following books in our library.\n",
      "1 Data Science\n",
      "2 Machine Learning\n",
      "3 Artificial Intelligence\n",
      "4 Deep Learning\n",
      "5 Data Analytics\n",
      "6 Bussiness Intelligence\n"
     ]
    }
   ],
   "source": [
    "BH_Library.displaybooks()"
   ]
  },
  {
   "cell_type": "code",
   "execution_count": 5,
   "id": "881bb9d8-d4e4-41c7-bbd9-c67564db801d",
   "metadata": {},
   "outputs": [
    {
     "name": "stdout",
     "output_type": "stream",
     "text": [
      "Book has been added to the book list\n"
     ]
    }
   ],
   "source": [
    "BH_Library.addbooks('Poems')"
   ]
  },
  {
   "cell_type": "code",
   "execution_count": 6,
   "id": "896cbcd2-7c45-4c05-a914-3e5299eb0861",
   "metadata": {},
   "outputs": [
    {
     "name": "stdout",
     "output_type": "stream",
     "text": [
      "Lender Book database has been update. You can take the book now.\n"
     ]
    }
   ],
   "source": [
    "BH_Library.lendbooks('Poems','Awi')"
   ]
  },
  {
   "cell_type": "code",
   "execution_count": 7,
   "id": "db92fd82-9821-492b-972f-e514c2268c45",
   "metadata": {},
   "outputs": [
    {
     "data": {
      "text/plain": [
       "{'booklist': ['Data Science',\n",
       "  'Machine Learning',\n",
       "  'Artificial Intelligence',\n",
       "  'Deep Learning',\n",
       "  'Data Analytics',\n",
       "  'Bussiness Intelligence',\n",
       "  'Poems'],\n",
       " 'name': 'BHARUMAL AMRANI LIBRARY',\n",
       " 'lenDict': {'Poems': 'Awi'}}"
      ]
     },
     "execution_count": 7,
     "metadata": {},
     "output_type": "execute_result"
    }
   ],
   "source": [
    "BH_Library.__dict__"
   ]
  },
  {
   "cell_type": "code",
   "execution_count": 8,
   "id": "7ac21793-9e08-498b-9e04-f123a37e4357",
   "metadata": {},
   "outputs": [
    {
     "name": "stdout",
     "output_type": "stream",
     "text": [
      "Thank You, Book is recived.\n"
     ]
    }
   ],
   "source": [
    "BH_Library.returnbooks('Poems')"
   ]
  },
  {
   "cell_type": "code",
   "execution_count": null,
   "id": "9e29304a-87b2-4e0d-ba5f-c8e17ccb1ec9",
   "metadata": {},
   "outputs": [
    {
     "name": "stdout",
     "output_type": "stream",
     "text": [
      "WElcome to BHARUMAL AMRANI LIBRARY Library.\n",
      "Enter your choice to continue\n",
      "1 Display Books\n",
      "2 Lend Books\n",
      "3 Add Books\n",
      "4 Return Books\n"
     ]
    },
    {
     "name": "stdin",
     "output_type": "stream",
     "text": [
      " 1\n"
     ]
    },
    {
     "name": "stdout",
     "output_type": "stream",
     "text": [
      "BHARUMAL AMRANI LIBRARY\n",
      "We have following books in our library.\n",
      "1 Data Science\n",
      "2 Machine Learning\n",
      "3 Artificial Intelligence\n",
      "4 Deep Learning\n",
      "5 Data Analytics\n",
      "6 Bussiness Intelligence\n",
      "press Q for quit and C to continue\n"
     ]
    },
    {
     "name": "stdin",
     "output_type": "stream",
     "text": [
      " C\n"
     ]
    },
    {
     "name": "stdout",
     "output_type": "stream",
     "text": [
      "WElcome to BHARUMAL AMRANI LIBRARY Library.\n",
      "Enter your choice to continue\n",
      "1 Display Books\n",
      "2 Lend Books\n",
      "3 Add Books\n",
      "4 Return Books\n"
     ]
    },
    {
     "name": "stdin",
     "output_type": "stream",
     "text": [
      " 3\n",
      "Enter the name of book that you want to add:  Science \n"
     ]
    },
    {
     "name": "stdout",
     "output_type": "stream",
     "text": [
      "Book has been added to the book list\n",
      "press Q for quit and C to continue\n"
     ]
    },
    {
     "name": "stdin",
     "output_type": "stream",
     "text": [
      " C\n"
     ]
    },
    {
     "name": "stdout",
     "output_type": "stream",
     "text": [
      "WElcome to BHARUMAL AMRANI LIBRARY Library.\n",
      "Enter your choice to continue\n",
      "1 Display Books\n",
      "2 Lend Books\n",
      "3 Add Books\n",
      "4 Return Books\n"
     ]
    }
   ],
   "source": [
    "if __name__ == '__main__':\n",
    "        BH_Library = BH_Library = library(['Data Science','Machine Learning','Artificial Intelligence','Deep Learning','Data Analytics','Bussiness Intelligence'],'BHARUMAL AMRANI LIBRARY')\n",
    "        while(True):\n",
    "            print(f\"WElcome to {BH_Library.name} Library.\\nEnter your choice to continue\")\n",
    "            print(\"1 Display Books\")\n",
    "            print(\"2 Lend Books\")\n",
    "            print(\"3 Add Books\")\n",
    "            print(\"4 Return Books\")\n",
    "            user_choice = input()\n",
    "            if user_choice not in ['1','2','3','4']:\n",
    "                 print(\"Please Enter a valid Option\")\n",
    "                 continue\n",
    "            else:  \n",
    "              user_choice = int(user_choice)\n",
    "            if user_choice == 1:\n",
    "                BH_Library.displaybooks()\n",
    "            elif user_choice == 2:\n",
    "                book = input(\"Enter the name of book that you want to lend: \")\n",
    "                name= input(\"Enter your name: \")\n",
    "                BH_Library.lendbooks(book,name)\n",
    "            elif user_choice == 3:\n",
    "                book = input(\"Enter the name of book that you want to add: \")\n",
    "                BH_Library.addbooks(book)\n",
    "                \n",
    "            elif user_choice == 4:\n",
    "                book = input(\"Enter the name of book that you want to return: \")\n",
    "                BH_Library.returnbooks(book)\n",
    "            else:\n",
    "                print(\"Enterd invalid option\")\n",
    "                \n",
    "            print(\"press Q for quit and C to continue\")\n",
    "            \n",
    "            User_choice = \"\"\n",
    "            while User_choice != \"C\" and User_choice != \"Q\":\n",
    "                User_choice = input()\n",
    "                if User_choice == \"Q\":\n",
    "                    exit()\n",
    "                elif User_choice == \"C\":\n",
    "                    continue\n",
    "\n",
    "                    \n",
    "                    \n",
    "            "
   ]
  },
  {
   "cell_type": "code",
   "execution_count": null,
   "id": "7a68c351-f592-40cf-af92-bdcf89604b5d",
   "metadata": {},
   "outputs": [],
   "source": []
  },
  {
   "cell_type": "code",
   "execution_count": null,
   "id": "2358a146-65c2-46aa-b643-c1b98400f741",
   "metadata": {},
   "outputs": [],
   "source": []
  }
 ],
 "metadata": {
  "kernelspec": {
   "display_name": "Python 3 (ipykernel)",
   "language": "python",
   "name": "python3"
  },
  "language_info": {
   "codemirror_mode": {
    "name": "ipython",
    "version": 3
   },
   "file_extension": ".py",
   "mimetype": "text/x-python",
   "name": "python",
   "nbconvert_exporter": "python",
   "pygments_lexer": "ipython3",
   "version": "3.11.7"
  }
 },
 "nbformat": 4,
 "nbformat_minor": 5
}
